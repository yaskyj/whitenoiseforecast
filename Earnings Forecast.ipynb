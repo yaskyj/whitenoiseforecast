{
 "cells": [
  {
   "cell_type": "code",
   "execution_count": 10,
   "id": "f02fbe6d",
   "metadata": {},
   "outputs": [],
   "source": [
    "import pandas as pd\n",
    "from statsmodels.tsa.arima.model import ARIMA"
   ]
  },
  {
   "cell_type": "code",
   "execution_count": 2,
   "id": "93f7e9f0",
   "metadata": {},
   "outputs": [],
   "source": [
    "plays = pd.read_csv('TotalPlays_12-1-2023--2-28-2024.csv', parse_dates=['Time (UTC)'])"
   ]
  },
  {
   "cell_type": "code",
   "execution_count": 3,
   "id": "cf6740b2",
   "metadata": {},
   "outputs": [],
   "source": [
    "earnings = pd.read_csv('AutomatedAdsEstimatedEarningsData_11-30-2023--2-27-2024.csv', parse_dates=['Time (UTC)'])"
   ]
  },
  {
   "cell_type": "code",
   "execution_count": 4,
   "id": "9a0d31cd",
   "metadata": {},
   "outputs": [
    {
     "data": {
      "text/html": [
       "<div>\n",
       "<style scoped>\n",
       "    .dataframe tbody tr th:only-of-type {\n",
       "        vertical-align: middle;\n",
       "    }\n",
       "\n",
       "    .dataframe tbody tr th {\n",
       "        vertical-align: top;\n",
       "    }\n",
       "\n",
       "    .dataframe thead th {\n",
       "        text-align: right;\n",
       "    }\n",
       "</style>\n",
       "<table border=\"1\" class=\"dataframe\">\n",
       "  <thead>\n",
       "    <tr style=\"text-align: right;\">\n",
       "      <th></th>\n",
       "      <th>Time (UTC)</th>\n",
       "      <th>Estimated Automated Ads Earnings</th>\n",
       "      <th>Estimated Host-Read Ads Earnings</th>\n",
       "    </tr>\n",
       "  </thead>\n",
       "  <tbody>\n",
       "    <tr>\n",
       "      <th>0</th>\n",
       "      <td>11/30/2023, 24:00:00</td>\n",
       "      <td>0.0</td>\n",
       "      <td>0.0</td>\n",
       "    </tr>\n",
       "    <tr>\n",
       "      <th>1</th>\n",
       "      <td>12/1/2023, 24:00:00</td>\n",
       "      <td>0.0</td>\n",
       "      <td>0.0</td>\n",
       "    </tr>\n",
       "    <tr>\n",
       "      <th>2</th>\n",
       "      <td>12/2/2023, 24:00:00</td>\n",
       "      <td>0.0</td>\n",
       "      <td>0.0</td>\n",
       "    </tr>\n",
       "    <tr>\n",
       "      <th>3</th>\n",
       "      <td>12/3/2023, 24:00:00</td>\n",
       "      <td>0.0</td>\n",
       "      <td>0.0</td>\n",
       "    </tr>\n",
       "    <tr>\n",
       "      <th>4</th>\n",
       "      <td>12/4/2023, 24:00:00</td>\n",
       "      <td>0.0</td>\n",
       "      <td>0.0</td>\n",
       "    </tr>\n",
       "  </tbody>\n",
       "</table>\n",
       "</div>"
      ],
      "text/plain": [
       "             Time (UTC)  Estimated Automated Ads Earnings  \\\n",
       "0  11/30/2023, 24:00:00                               0.0   \n",
       "1   12/1/2023, 24:00:00                               0.0   \n",
       "2   12/2/2023, 24:00:00                               0.0   \n",
       "3   12/3/2023, 24:00:00                               0.0   \n",
       "4   12/4/2023, 24:00:00                               0.0   \n",
       "\n",
       "   Estimated Host-Read Ads Earnings  \n",
       "0                               0.0  \n",
       "1                               0.0  \n",
       "2                               0.0  \n",
       "3                               0.0  \n",
       "4                               0.0  "
      ]
     },
     "execution_count": 4,
     "metadata": {},
     "output_type": "execute_result"
    }
   ],
   "source": [
    "earnings.head()"
   ]
  },
  {
   "cell_type": "code",
   "execution_count": 5,
   "id": "85b35260",
   "metadata": {},
   "outputs": [
    {
     "data": {
      "text/html": [
       "<div>\n",
       "<style scoped>\n",
       "    .dataframe tbody tr th:only-of-type {\n",
       "        vertical-align: middle;\n",
       "    }\n",
       "\n",
       "    .dataframe tbody tr th {\n",
       "        vertical-align: top;\n",
       "    }\n",
       "\n",
       "    .dataframe thead th {\n",
       "        text-align: right;\n",
       "    }\n",
       "</style>\n",
       "<table border=\"1\" class=\"dataframe\">\n",
       "  <thead>\n",
       "    <tr style=\"text-align: right;\">\n",
       "      <th></th>\n",
       "      <th>Time (UTC)</th>\n",
       "      <th>Plays</th>\n",
       "    </tr>\n",
       "  </thead>\n",
       "  <tbody>\n",
       "    <tr>\n",
       "      <th>0</th>\n",
       "      <td>12/1/2023, 24:00:00</td>\n",
       "      <td>953</td>\n",
       "    </tr>\n",
       "    <tr>\n",
       "      <th>1</th>\n",
       "      <td>12/2/2023, 24:00:00</td>\n",
       "      <td>964</td>\n",
       "    </tr>\n",
       "    <tr>\n",
       "      <th>2</th>\n",
       "      <td>12/3/2023, 24:00:00</td>\n",
       "      <td>919</td>\n",
       "    </tr>\n",
       "    <tr>\n",
       "      <th>3</th>\n",
       "      <td>12/4/2023, 24:00:00</td>\n",
       "      <td>1073</td>\n",
       "    </tr>\n",
       "    <tr>\n",
       "      <th>4</th>\n",
       "      <td>12/5/2023, 24:00:00</td>\n",
       "      <td>1114</td>\n",
       "    </tr>\n",
       "  </tbody>\n",
       "</table>\n",
       "</div>"
      ],
      "text/plain": [
       "            Time (UTC)  Plays\n",
       "0  12/1/2023, 24:00:00    953\n",
       "1  12/2/2023, 24:00:00    964\n",
       "2  12/3/2023, 24:00:00    919\n",
       "3  12/4/2023, 24:00:00   1073\n",
       "4  12/5/2023, 24:00:00   1114"
      ]
     },
     "execution_count": 5,
     "metadata": {},
     "output_type": "execute_result"
    }
   ],
   "source": [
    "plays.head()"
   ]
  },
  {
   "cell_type": "code",
   "execution_count": 6,
   "id": "f6d1e383",
   "metadata": {},
   "outputs": [],
   "source": [
    "df = plays.merge(earnings)"
   ]
  },
  {
   "cell_type": "code",
   "execution_count": 7,
   "id": "ed795f72",
   "metadata": {},
   "outputs": [],
   "source": [
    "df = df[df['Estimated Automated Ads Earnings'] > 0].reset_index(drop=True)"
   ]
  },
  {
   "cell_type": "code",
   "execution_count": 8,
   "id": "db8ea99c",
   "metadata": {},
   "outputs": [
    {
     "data": {
      "text/html": [
       "<div>\n",
       "<style scoped>\n",
       "    .dataframe tbody tr th:only-of-type {\n",
       "        vertical-align: middle;\n",
       "    }\n",
       "\n",
       "    .dataframe tbody tr th {\n",
       "        vertical-align: top;\n",
       "    }\n",
       "\n",
       "    .dataframe thead th {\n",
       "        text-align: right;\n",
       "    }\n",
       "</style>\n",
       "<table border=\"1\" class=\"dataframe\">\n",
       "  <thead>\n",
       "    <tr style=\"text-align: right;\">\n",
       "      <th></th>\n",
       "      <th>Time (UTC)</th>\n",
       "      <th>Plays</th>\n",
       "      <th>Estimated Automated Ads Earnings</th>\n",
       "      <th>Estimated Host-Read Ads Earnings</th>\n",
       "    </tr>\n",
       "  </thead>\n",
       "  <tbody>\n",
       "    <tr>\n",
       "      <th>0</th>\n",
       "      <td>12/20/2023, 24:00:00</td>\n",
       "      <td>1145</td>\n",
       "      <td>0.01</td>\n",
       "      <td>0.0</td>\n",
       "    </tr>\n",
       "    <tr>\n",
       "      <th>1</th>\n",
       "      <td>12/21/2023, 24:00:00</td>\n",
       "      <td>1036</td>\n",
       "      <td>1.42</td>\n",
       "      <td>0.0</td>\n",
       "    </tr>\n",
       "    <tr>\n",
       "      <th>2</th>\n",
       "      <td>12/22/2023, 24:00:00</td>\n",
       "      <td>1033</td>\n",
       "      <td>4.74</td>\n",
       "      <td>0.0</td>\n",
       "    </tr>\n",
       "    <tr>\n",
       "      <th>3</th>\n",
       "      <td>12/23/2023, 24:00:00</td>\n",
       "      <td>1016</td>\n",
       "      <td>5.05</td>\n",
       "      <td>0.0</td>\n",
       "    </tr>\n",
       "    <tr>\n",
       "      <th>4</th>\n",
       "      <td>12/24/2023, 24:00:00</td>\n",
       "      <td>1019</td>\n",
       "      <td>5.40</td>\n",
       "      <td>0.0</td>\n",
       "    </tr>\n",
       "  </tbody>\n",
       "</table>\n",
       "</div>"
      ],
      "text/plain": [
       "             Time (UTC)  Plays  Estimated Automated Ads Earnings  \\\n",
       "0  12/20/2023, 24:00:00   1145                              0.01   \n",
       "1  12/21/2023, 24:00:00   1036                              1.42   \n",
       "2  12/22/2023, 24:00:00   1033                              4.74   \n",
       "3  12/23/2023, 24:00:00   1016                              5.05   \n",
       "4  12/24/2023, 24:00:00   1019                              5.40   \n",
       "\n",
       "   Estimated Host-Read Ads Earnings  \n",
       "0                               0.0  \n",
       "1                               0.0  \n",
       "2                               0.0  \n",
       "3                               0.0  \n",
       "4                               0.0  "
      ]
     },
     "execution_count": 8,
     "metadata": {},
     "output_type": "execute_result"
    }
   ],
   "source": [
    "df.head()"
   ]
  },
  {
   "cell_type": "code",
   "execution_count": 9,
   "id": "941664ee",
   "metadata": {},
   "outputs": [
    {
     "data": {
      "text/html": [
       "<div>\n",
       "<style scoped>\n",
       "    .dataframe tbody tr th:only-of-type {\n",
       "        vertical-align: middle;\n",
       "    }\n",
       "\n",
       "    .dataframe tbody tr th {\n",
       "        vertical-align: top;\n",
       "    }\n",
       "\n",
       "    .dataframe thead th {\n",
       "        text-align: right;\n",
       "    }\n",
       "</style>\n",
       "<table border=\"1\" class=\"dataframe\">\n",
       "  <thead>\n",
       "    <tr style=\"text-align: right;\">\n",
       "      <th></th>\n",
       "      <th>Time (UTC)</th>\n",
       "      <th>Plays</th>\n",
       "      <th>Estimated Automated Ads Earnings</th>\n",
       "      <th>Estimated Host-Read Ads Earnings</th>\n",
       "    </tr>\n",
       "  </thead>\n",
       "  <tbody>\n",
       "    <tr>\n",
       "      <th>63</th>\n",
       "      <td>2/21/2024, 24:00:00</td>\n",
       "      <td>1958</td>\n",
       "      <td>17.03</td>\n",
       "      <td>0.0</td>\n",
       "    </tr>\n",
       "    <tr>\n",
       "      <th>64</th>\n",
       "      <td>2/22/2024, 24:00:00</td>\n",
       "      <td>2028</td>\n",
       "      <td>15.06</td>\n",
       "      <td>0.0</td>\n",
       "    </tr>\n",
       "    <tr>\n",
       "      <th>65</th>\n",
       "      <td>2/23/2024, 24:00:00</td>\n",
       "      <td>1881</td>\n",
       "      <td>14.42</td>\n",
       "      <td>0.0</td>\n",
       "    </tr>\n",
       "    <tr>\n",
       "      <th>66</th>\n",
       "      <td>2/24/2024, 24:00:00</td>\n",
       "      <td>1720</td>\n",
       "      <td>16.32</td>\n",
       "      <td>0.0</td>\n",
       "    </tr>\n",
       "    <tr>\n",
       "      <th>67</th>\n",
       "      <td>2/25/2024, 24:00:00</td>\n",
       "      <td>1707</td>\n",
       "      <td>17.07</td>\n",
       "      <td>0.0</td>\n",
       "    </tr>\n",
       "  </tbody>\n",
       "</table>\n",
       "</div>"
      ],
      "text/plain": [
       "             Time (UTC)  Plays  Estimated Automated Ads Earnings  \\\n",
       "63  2/21/2024, 24:00:00   1958                             17.03   \n",
       "64  2/22/2024, 24:00:00   2028                             15.06   \n",
       "65  2/23/2024, 24:00:00   1881                             14.42   \n",
       "66  2/24/2024, 24:00:00   1720                             16.32   \n",
       "67  2/25/2024, 24:00:00   1707                             17.07   \n",
       "\n",
       "    Estimated Host-Read Ads Earnings  \n",
       "63                               0.0  \n",
       "64                               0.0  \n",
       "65                               0.0  \n",
       "66                               0.0  \n",
       "67                               0.0  "
      ]
     },
     "execution_count": 9,
     "metadata": {},
     "output_type": "execute_result"
    }
   ],
   "source": [
    "df.tail()"
   ]
  },
  {
   "cell_type": "code",
   "execution_count": null,
   "id": "0d72314c",
   "metadata": {},
   "outputs": [],
   "source": []
  }
 ],
 "metadata": {
  "kernelspec": {
   "display_name": "Python 3 (ipykernel)",
   "language": "python",
   "name": "python3"
  },
  "language_info": {
   "codemirror_mode": {
    "name": "ipython",
    "version": 3
   },
   "file_extension": ".py",
   "mimetype": "text/x-python",
   "name": "python",
   "nbconvert_exporter": "python",
   "pygments_lexer": "ipython3",
   "version": "3.8.13"
  }
 },
 "nbformat": 4,
 "nbformat_minor": 5
}
